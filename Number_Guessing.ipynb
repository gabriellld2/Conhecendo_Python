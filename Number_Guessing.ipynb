{
  "nbformat": 4,
  "nbformat_minor": 0,
  "metadata": {
    "colab": {
      "name": "Number Guessing.ipynb",
      "provenance": [],
      "authorship_tag": "ABX9TyOjoAMort7NSrjvY0VDwUiu",
      "include_colab_link": true
    },
    "kernelspec": {
      "name": "python3",
      "display_name": "Python 3"
    }
  },
  "cells": [
    {
      "cell_type": "markdown",
      "metadata": {
        "id": "view-in-github",
        "colab_type": "text"
      },
      "source": [
        "<a href=\"https://colab.research.google.com/github/gabriellld2/Projetos-Google-Colab/blob/master/Number_Guessing.ipynb\" target=\"_parent\"><img src=\"https://colab.research.google.com/assets/colab-badge.svg\" alt=\"Open In Colab\"/></a>"
      ]
    },
    {
      "cell_type": "markdown",
      "metadata": {
        "id": "xsfGHnVx5ADy"
      },
      "source": [
        "**Number Guessing**\n",
        "\n",
        "**Ache o número**\n",
        "\n"
      ]
    },
    {
      "cell_type": "code",
      "metadata": {
        "id": "XyKWnaOY42O2"
      },
      "source": [
        "import numpy as np"
      ],
      "execution_count": 1,
      "outputs": []
    },
    {
      "cell_type": "code",
      "metadata": {
        "id": "CnXnAmCd5cHo"
      },
      "source": [
        "Num = np.random.randint(0,100)\n",
        "Num"
      ],
      "execution_count": null,
      "outputs": []
    },
    {
      "cell_type": "code",
      "metadata": {
        "id": "AZB4ZhhS5mzc"
      },
      "source": [
        "Player = int(input(\"Digite um Número entre 0 e 100\\n\"))\n",
        "cont = 1\n",
        "while Player != Num:\n",
        "    if(Player < Num):\n",
        "      print(\"Seu palpite era baixo, por favor, digite um número maior.\")\n",
        "      Player = int(input(\"Digite um novo número: \"))\n",
        "      cont +=1\n",
        "    elif (Player > Num):\n",
        "      print(\"Seu palpite era alto, por favor, digite um número menor.\")\n",
        "      Player = int(input(\"Digite um novo número: \"))\n",
        "      cont +=1\n",
        "\n",
        "\n",
        "print(\"Acertou\") \n",
        "print(f'Número de palpites que você usou: {cont}')\n"
      ],
      "execution_count": null,
      "outputs": []
    },
    {
      "cell_type": "code",
      "metadata": {
        "id": "SpzKlqAI7eTO"
      },
      "source": [
        ""
      ],
      "execution_count": null,
      "outputs": []
    }
  ]
}